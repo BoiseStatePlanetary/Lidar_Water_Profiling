{
 "cells": [
  {
   "cell_type": "markdown",
   "id": "659d59f5",
   "metadata": {},
   "source": [
    "If you used the same basic kind of lidar as Ingenuity, with a few clever tweaks, could you profile water?"
   ]
  },
  {
   "cell_type": "code",
   "execution_count": 1,
   "id": "8beef3a4",
   "metadata": {},
   "outputs": [
    {
     "name": "stdout",
     "output_type": "stream",
     "text": [
      "Intel MKL WARNING: Support of Intel(R) Streaming SIMD Extensions 4.2 (Intel(R) SSE4.2) enabled only processors has been deprecated. Intel oneAPI Math Kernel Library 2025.0 will require Intel(R) Advanced Vector Extensions (Intel(R) AVX) instructions.\n",
      "Intel MKL WARNING: Support of Intel(R) Streaming SIMD Extensions 4.2 (Intel(R) SSE4.2) enabled only processors has been deprecated. Intel oneAPI Math Kernel Library 2025.0 will require Intel(R) Advanced Vector Extensions (Intel(R) AVX) instructions.\n"
     ]
    }
   ],
   "source": [
    "import numpy as np\n",
    "import matplotlib.pyplot as plt"
   ]
  },
  {
   "cell_type": "code",
   "execution_count": 20,
   "id": "c1c185f7",
   "metadata": {},
   "outputs": [
    {
     "name": "stdout",
     "output_type": "stream",
     "text": [
      "1184527628342799.8\n"
     ]
    }
   ],
   "source": [
    "# Planck's constant\n",
    "h = 6.62607015e-34 # J s\n",
    "c = 2.99792458e8 # m/s\n",
    "\n",
    "# Specs on the Ingenuity lidar - https://www.garmin.com/en-US/p/557294#specs\n",
    "lamb = 905e-9 # m\n",
    "power = 1.3 # W\n",
    "\n",
    "energy_per_photon = h*c/lamb\n",
    "\n",
    "# Detectors operate at kHz sampling - \n",
    "# https://www.baumer.com/us/en/product-overview/distance-measurement/laser-distance-sensors/c/289\n",
    "t = 1./5e3\n",
    "\n",
    "number_photons = power*t/energy_per_photon\n",
    "print(number_photons)"
   ]
  },
  {
   "cell_type": "code",
   "execution_count": 15,
   "id": "16ae4f29",
   "metadata": {},
   "outputs": [
    {
     "name": "stdout",
     "output_type": "stream",
     "text": [
      "extinction coefficients in 1/m:\n",
      "1.2422360248447203e-06 1.2422360248447202e-09\n"
     ]
    }
   ],
   "source": [
    "kB = 1.38e-23 # Boltzmann's constant - J/K\n",
    "\n",
    "T = 210. # atmospheric temperature, K\n",
    "p = 600. # atmospheric pressure, Pa\n",
    "f_H2O = 3e-4 # fraction in water vapor\n",
    "\n",
    "# total number density\n",
    "rho_number = p/kB/T\n",
    "rho_number_water = f_H2O*rho_number # 1/m^3\n",
    "\n",
    "# water extinction coefficient - https://amt.copernicus.org/articles/8/3971/2015/amt-8-3971-2015.pdf\n",
    "# approximate absorption cross-sections\n",
    "sigma_909nm = 2e-22/1e4 # cm^2/molec -> m^2/molec\n",
    "sigma_906nm = 2e-25/1e4 # cm^2/molec -> m^2/molec\n",
    "\n",
    "# extinction coefficients\n",
    "kappa_909nm = rho_number_water*sigma_909nm # 1/m\n",
    "kappa_906nm = rho_number_water*sigma_906nm # 1/m\n",
    "\n",
    "print(\"extinction coefficients in 1/m:\")\n",
    "print(kappa_909nm, kappa_906nm)"
   ]
  },
  {
   "cell_type": "code",
   "execution_count": 23,
   "id": "a152fc72",
   "metadata": {},
   "outputs": [
    {
     "name": "stdout",
     "output_type": "stream",
     "text": [
      "60.40285592746784\n"
     ]
    }
   ],
   "source": [
    "# At an altitude of 1 m, can we tell the difference between the total number of photons \n",
    "# in and out of the absorption band?\n",
    "\n",
    "# Mars surface albedo - https://www.isro.gov.in/mission_global_albedo_map_of_mars.html\n",
    "albedo = 0.1\n",
    "\n",
    "path_length = 2. # m\n",
    "\n",
    "inband_returned_photons = number_photons*(1. - path_length*kappa_909nm)\n",
    "outband_returned_photons = number_photons*(1. - path_length*kappa_906nm)\n",
    "\n",
    "# Assuming Poisson error bars, \n",
    "# how many sigma different are the number of photons returned in and out of band?\n",
    "print((outband_returned_photons - inband_returned_photons)/\\\n",
    "      np.sqrt(outband_returned_photons + inband_returned_photons))"
   ]
  },
  {
   "cell_type": "markdown",
   "id": "e377dba5",
   "metadata": {},
   "source": [
    "Some notes and websites I found useful:\n",
    "* https://amt.copernicus.org/articles/8/3971/2015/amt-8-3971-2015.pdf\n",
    "* https://www.garmin.com/en-US/p/557294#specs\n",
    "* https://www.baumer.com/us/en/product-overview/distance-measurement/laser-distance-sensors/c/289\n",
    "* https://nssdc.gsfc.nasa.gov/planetary/factsheet/marsfact.html\n",
    "* https://lidar.jpl.nasa.gov/results/water_studies.php\n",
    "* file:///Users/brian/Downloads/bams-1520-0477_1994_075_0975_rlpoaw_2_0_co_2.pdf\n",
    "* https://www.acuitylaser.com/product/laser-sensors/long-range-sensors/ar3000-distance-measurement-sensor/\n",
    "* https://arxiv.org/pdf/1109.6703"
   ]
  }
 ],
 "metadata": {
  "kernelspec": {
   "display_name": "Python 3 (ipykernel)",
   "language": "python",
   "name": "python3"
  },
  "language_info": {
   "codemirror_mode": {
    "name": "ipython",
    "version": 3
   },
   "file_extension": ".py",
   "mimetype": "text/x-python",
   "name": "python",
   "nbconvert_exporter": "python",
   "pygments_lexer": "ipython3",
   "version": "3.9.18"
  }
 },
 "nbformat": 4,
 "nbformat_minor": 5
}
